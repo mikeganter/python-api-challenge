{
 "cells": [
  {
   "cell_type": "markdown",
   "metadata": {},
   "source": [
    "# WeatherPy\n",
    "----\n",
    "\n",
    "#### Note\n",
    "* Instructions have been included for each segment. You do not have to follow them exactly, but they are included to help you think through the steps."
   ]
  },
  {
   "cell_type": "code",
   "execution_count": null,
   "metadata": {
    "scrolled": true
   },
   "outputs": [],
   "source": [
    "# Dependencies and Setup\n",
    "import matplotlib.pyplot as plt\n",
    "import pandas as pd\n",
    "import numpy as np\n",
    "import requests\n",
    "import time\n",
    "from scipy.stats import linregress\n",
    "\n",
    "# Import API key\n",
    "from config import weather_api_key\n",
    "\n",
    "# Incorporated citipy to determine city based on latitude and longitude\n",
    "from citipy import citipy\n",
    "\n",
    "# Output File (CSV)\n",
    "output_file = \"output/cities.csv\"\n",
    "\n",
    "# Range of latitudes and longitudes\n",
    "lat_range = (-90, 90)\n",
    "lng_range = (-180, 180)\n",
    "\n",
    "base_url = \"http://api.openweathermap.org/data/2.5/weather?\"\n",
    "\n",
    "units = 'Imperial'"
   ]
  },
  {
   "cell_type": "markdown",
   "metadata": {},
   "source": [
    "## Generate Cities List"
   ]
  },
  {
   "cell_type": "code",
   "execution_count": null,
   "metadata": {},
   "outputs": [],
   "source": [
    "# List for holding lat_lngs and cities\n",
    "lat_lngs = []\n",
    "cities = []\n",
    "city_lat = []\n",
    "city_lng = []\n",
    "\n",
    "# Create a set of random lat and lng combinations\n",
    "lats = np.random.uniform(lat_range[0], lat_range[1], size=1500)\n",
    "lngs = np.random.uniform(lng_range[0], lng_range[1], size=1500)\n",
    "lat_lngs = zip(lats, lngs)\n",
    "\n",
    "# Identify nearest city for each lat, lng combination\n",
    "for lat_lng in lat_lngs:\n",
    "    city = citipy.nearest_city(lat_lng[0], lat_lng[1]).city_name\n",
    "    \n",
    "    # If the city is unique, then add it to a our cities list\n",
    "    if city not in cities:\n",
    "        cities.append(city)\n",
    "        city_lat.append(lat_lng[0])\n",
    "        city_lng.append(lat_lng[1])\n",
    "\n",
    "# Print the city count to confirm sufficient count\n",
    "len(cities)"
   ]
  },
  {
   "cell_type": "markdown",
   "metadata": {},
   "source": [
    "### Perform API Calls\n",
    "* Perform a weather check on each city using a series of successive API calls.\n",
    "* Include a print log of each city as it'sbeing processed (with the city number and city name).\n"
   ]
  },
  {
   "cell_type": "code",
   "execution_count": null,
   "metadata": {
    "scrolled": true
   },
   "outputs": [],
   "source": [
    "temp = []\n",
    "humid = []\n",
    "clouds = []\n",
    "wind = []\n",
    "\n",
    "for city in cities:\n",
    "    target_city = city\n",
    "    target_url = f'{base_url}q={target_city}&appid={weather_api_key}&units={units}'\n",
    "    target_city_index = cities.index(city) + 1\n",
    "    city_data = requests.get(target_url).json()\n",
    "    \n",
    "    print(f'#{target_city_index} - Getting data from {target_city}')\n",
    "    \n",
    "    try:\n",
    "        temp.append(city_data['main']['temp'])\n",
    "    except:\n",
    "        temp.append(\"NAN\")\n",
    "        print(f'No temp data for {target_city}, skipping')\n",
    "        \n",
    "    try:\n",
    "        humid.append(city_data['main']['humidity'])\n",
    "    except:\n",
    "        humid.append(\"NAN\")\n",
    "        print(f'No humid data for {target_city}, skipping')\n",
    "        \n",
    "    try:\n",
    "        clouds.append(city_data['clouds']['all'])\n",
    "    except:\n",
    "        clouds.append(\"NAN\")\n",
    "        print(f'No cloud data for {target_city}, skipping')\n",
    "\n",
    "    try:\n",
    "        wind.append(city_data['wind']['speed'])\n",
    "    except:\n",
    "        wind.append(\"NAN\")\n",
    "        print(f'No wind data for {target_city}, skipping')\n",
    "        \n",
    "print(len(temp))\n",
    "print(len(humid))\n",
    "print(len(clouds))\n",
    "print(len(wind))"
   ]
  },
  {
   "cell_type": "markdown",
   "metadata": {},
   "source": [
    "### Convert Raw Data to DataFrame\n",
    "* Export the city data into a .csv.\n",
    "* Display the DataFrame"
   ]
  },
  {
   "cell_type": "code",
   "execution_count": null,
   "metadata": {},
   "outputs": [],
   "source": [
    "weather_df = pd.DataFrame({'City': cities, 'Latitude': city_lat, 'Longitude': city_lng, 'Temperature \\N{DEGREE SIGN}F': temp, 'Humidity (%)': humid, 'Cloud Coverage (%)': clouds, 'Wind Speed (MPH)': wind})\n",
    "weather_df['City'] = weather_df['City'].str.title()\n",
    "\n",
    "weather_df['Temperature \\N{DEGREE SIGN}F'] = weather_df['Temperature \\N{DEGREE SIGN}F'].astype(float)\n",
    "weather_df['Humidity (%)'] = weather_df['Humidity (%)'].astype(float)\n",
    "weather_df['Cloud Coverage (%)'] = weather_df['Cloud Coverage (%)'].astype(float)\n",
    "weather_df['Wind Speed (MPH)'] = weather_df['Wind Speed (MPH)'].astype(float)\n",
    "\n",
    "# to csv\n",
    "weather_df.to_csv(output_file)"
   ]
  },
  {
   "cell_type": "markdown",
   "metadata": {},
   "source": [
    "## Inspect the data and remove the cities where the humidity > 100%.\n",
    "----\n",
    "Skip this step if there are no cities that have humidity > 100%. "
   ]
  },
  {
   "cell_type": "code",
   "execution_count": null,
   "metadata": {},
   "outputs": [],
   "source": [
    "humid_over_100 = weather_df.loc[weather_df['Humidity (%)'] >= 100]\n",
    "print(f'Number of cities where humidity > 100% = {len(humid_over_100)}')\n",
    "print(f'Removing these {len(humid_over_100)} cities')\n",
    "weather_df = weather_df.loc[weather_df['Humidity (%)'] < 100]\n",
    "print(f'Now there is {len(weather_df)} cities in the dataframe.')"
   ]
  },
  {
   "cell_type": "markdown",
   "metadata": {},
   "source": [
    "## Plotting the Data\n",
    "* Use proper labeling of the plots using plot titles (including date of analysis) and axes labels.\n",
    "* Save the plotted figures as .pngs."
   ]
  },
  {
   "cell_type": "markdown",
   "metadata": {},
   "source": [
    "## Latitude vs. Temperature Plot"
   ]
  },
  {
   "cell_type": "code",
   "execution_count": null,
   "metadata": {
    "scrolled": true
   },
   "outputs": [],
   "source": [
    "plt.scatter(weather_df['Latitude'], weather_df['Temperature \\N{DEGREE SIGN}F'])\n",
    "plt.title('Temp vs Lat of Various Cities')\n",
    "plt.xlabel('Latitude')\n",
    "plt.ylabel('Temperature (F)')\n",
    "plt.savefig('output/Temp-vs-Lat.png')\n",
    "print(f\"This plot shows that temperature rises as you get closer to the equator.\")"
   ]
  },
  {
   "cell_type": "markdown",
   "metadata": {},
   "source": [
    "## Latitude vs. Humidity Plot"
   ]
  },
  {
   "cell_type": "code",
   "execution_count": null,
   "metadata": {},
   "outputs": [],
   "source": [
    "plt.scatter(weather_df['Latitude'], weather_df['Humidity (%)'])\n",
    "plt.title('Humidity vs Lat of Various Cities')\n",
    "plt.xlabel('Latitude')\n",
    "plt.ylabel('Humidity')\n",
    "plt.savefig('output/Humidity-vs-Lat.png')\n",
    "print(f\"Doesn't appear to be a clear relationship between humidity and latitude.\")"
   ]
  },
  {
   "cell_type": "markdown",
   "metadata": {},
   "source": [
    "## Latitude vs. Cloudiness Plot"
   ]
  },
  {
   "cell_type": "code",
   "execution_count": null,
   "metadata": {},
   "outputs": [],
   "source": [
    "plt.scatter(weather_df['Latitude'], weather_df['Cloud Coverage (%)'])\n",
    "plt.title('Cloudiness vs Lat of Various Cities')\n",
    "plt.xlabel('Latitude')\n",
    "plt.ylabel('Cloud Coverage (%)')\n",
    "plt.savefig('output/Cloudiness-vs-Lat.png')\n",
    "print(f\"This API source seems to measure cloudiness in multiples of 5. There are clear lines at certain levels of cloud coverage. Because of this, it's hard to see a relationship between cloudiness and latitude.\")"
   ]
  },
  {
   "cell_type": "markdown",
   "metadata": {},
   "source": [
    "## Latitude vs. Wind Speed Plot"
   ]
  },
  {
   "cell_type": "code",
   "execution_count": null,
   "metadata": {},
   "outputs": [],
   "source": [
    "plt.scatter(weather_df['Latitude'], weather_df['Wind Speed (MPH)'])\n",
    "plt.title('Wind Speed vs Lat of Various Cities')\n",
    "plt.xlabel('Latitude')\n",
    "plt.ylabel('Wind Speed (MPH)')\n",
    "plt.savefig('output/Wind-Speed-vs-Lat.png')\n",
    "print(f\"There doesn't appear to be a relationship between wind speed and latitude. There must be a different factor that relates to wind speed, perhaps longitude, for example.\")"
   ]
  },
  {
   "cell_type": "markdown",
   "metadata": {},
   "source": [
    "## Linear Regression"
   ]
  },
  {
   "cell_type": "code",
   "execution_count": null,
   "metadata": {},
   "outputs": [],
   "source": [
    "north = weather_df.loc[weather_df['Latitude'] >= 0]\n",
    "south = weather_df.loc[weather_df['Latitude'] <= 0]"
   ]
  },
  {
   "cell_type": "markdown",
   "metadata": {},
   "source": [
    "####  Northern Hemisphere - Max Temp vs. Latitude Linear Regression"
   ]
  },
  {
   "cell_type": "code",
   "execution_count": null,
   "metadata": {},
   "outputs": [],
   "source": [
    "x_values = north['Latitude']\n",
    "y_values = north['Temperature \\N{DEGREE SIGN}F']\n",
    "(slope, intercept, rvalue, pvalue, stderr) = linregress(x_values, y_values)\n",
    "regress_values = x_values * slope + intercept\n",
    "line_eq = \"y = \" + str(round(slope,2)) + \"x + \" + str(round(intercept,2))\n",
    "plt.scatter(x_values,y_values)\n",
    "plt.plot(x_values,regress_values,\"r-\")\n",
    "plt.annotate(line_eq,(0,-15),fontsize=15,color=\"red\")\n",
    "plt.title('Temperature vs Lat: North')\n",
    "plt.xlabel('Latitude')\n",
    "plt.ylabel('Temperature (F)')\n",
    "plt.savefig('output/Temp-vs-Lat-North.png', format='png')\n",
    "print('Negative correlation between temperature and latitude in the northern hemisphere.')"
   ]
  },
  {
   "cell_type": "markdown",
   "metadata": {},
   "source": [
    "####  Southern Hemisphere - Max Temp vs. Latitude Linear Regression"
   ]
  },
  {
   "cell_type": "code",
   "execution_count": null,
   "metadata": {},
   "outputs": [],
   "source": [
    "x_values = south['Latitude']\n",
    "y_values = south['Temperature \\N{DEGREE SIGN}F']\n",
    "(slope, intercept, rvalue, pvalue, stderr) = linregress(x_values, y_values)\n",
    "regress_values = x_values * slope + intercept\n",
    "line_eq = \"y = \" + str(round(slope,2)) + \"x + \" + str(round(intercept,2))\n",
    "plt.scatter(x_values,y_values)\n",
    "plt.plot(x_values,regress_values,\"r-\")\n",
    "plt.annotate(line_eq,(-80,20),fontsize=15,color=\"red\")\n",
    "plt.title('Temperature vs Lat: Southern Hemisphere')\n",
    "plt.xlabel('Latitude')\n",
    "plt.ylabel('Temperature (F)')\n",
    "plt.savefig('output/Temp-vs-Lat-South.png')\n",
    "print('Positive correlation between temperature and latitude in the southern hemisphere.')"
   ]
  },
  {
   "cell_type": "markdown",
   "metadata": {},
   "source": [
    "####  Northern Hemisphere - Humidity (%) vs. Latitude Linear Regression"
   ]
  },
  {
   "cell_type": "code",
   "execution_count": null,
   "metadata": {},
   "outputs": [],
   "source": [
    "x_values = north['Latitude']\n",
    "y_values = north['Humidity (%)']\n",
    "(slope, intercept, rvalue, pvalue, stderr) = linregress(x_values, y_values)\n",
    "regress_values = x_values * slope + intercept\n",
    "line_eq = \"y = \" + str(round(slope,2)) + \"x + \" + str(round(intercept,2))\n",
    "plt.scatter(x_values,y_values)\n",
    "plt.plot(x_values,regress_values,\"r-\")\n",
    "plt.annotate(line_eq,(40,10),fontsize=15,color=\"red\")\n",
    "plt.title('Humidity vs Lat: Northern Hemisphere')\n",
    "plt.xlabel('Latitude')\n",
    "plt.ylabel('Humidity')\n",
    "plt.savefig('output/Humidity-vs-Lat-North.png')\n",
    "print('Positive correlation between humidity and latitude in the northern hemisphere. Though, it is a pretty weak correlation.')"
   ]
  },
  {
   "cell_type": "markdown",
   "metadata": {},
   "source": [
    "####  Southern Hemisphere - Humidity (%) vs. Latitude Linear Regression"
   ]
  },
  {
   "cell_type": "code",
   "execution_count": null,
   "metadata": {},
   "outputs": [],
   "source": [
    "x_values = south['Latitude']\n",
    "y_values = south['Humidity (%)']\n",
    "(slope, intercept, rvalue, pvalue, stderr) = linregress(x_values, y_values)\n",
    "regress_values = x_values * slope + intercept\n",
    "line_eq = \"y = \" + str(round(slope,2)) + \"x + \" + str(round(intercept,2))\n",
    "plt.scatter(x_values,y_values)\n",
    "plt.plot(x_values,regress_values,\"r-\")\n",
    "plt.annotate(line_eq,(-90,15),fontsize=15,color=\"red\")\n",
    "plt.title('Humidity vs Lat: South')\n",
    "plt.xlabel('Latitude')\n",
    "plt.ylabel('Humidity')\n",
    "plt.savefig('output/Humidity-vs-Lat-South.png')\n",
    "print('Positive correlation between humidity and latitude in the southern hemisphere. Like the northern hemisphere, this is also a weak correlation.')"
   ]
  },
  {
   "cell_type": "markdown",
   "metadata": {},
   "source": [
    "####  Northern Hemisphere - Cloudiness (%) vs. Latitude Linear Regression"
   ]
  },
  {
   "cell_type": "code",
   "execution_count": null,
   "metadata": {},
   "outputs": [],
   "source": [
    "x_values = north['Latitude']\n",
    "y_values = north['Cloud Coverage (%)']\n",
    "(slope, intercept, rvalue, pvalue, stderr) = linregress(x_values, y_values)\n",
    "regress_values = x_values * slope + intercept\n",
    "line_eq = \"y = \" + str(round(slope,2)) + \"x + \" + str(round(intercept,2))\n",
    "plt.scatter(x_values,y_values)\n",
    "plt.plot(x_values,regress_values,\"r-\")\n",
    "plt.annotate(line_eq,(40,65),fontsize=15,color=\"red\")\n",
    "plt.title('Cloudiness vs Lat: North')\n",
    "plt.xlabel('Latitude')\n",
    "plt.ylabel('Cloud Coverage (%)')\n",
    "plt.savefig('output/Cloudiness-vs-Lat-North.png')\n",
    "print('No correlation between cloudiness and latitude in the northern hemisphere, that we can see. While the regression line has a positive slope, the distribution of data points does not visually mirror the trendline.')"
   ]
  },
  {
   "cell_type": "markdown",
   "metadata": {},
   "source": [
    "####  Southern Hemisphere - Cloudiness (%) vs. Latitude Linear Regression"
   ]
  },
  {
   "cell_type": "code",
   "execution_count": null,
   "metadata": {},
   "outputs": [],
   "source": [
    "x_values = south['Latitude']\n",
    "y_values = south['Cloud Coverage (%)']\n",
    "(slope, intercept, rvalue, pvalue, stderr) = linregress(x_values, y_values)\n",
    "regress_values = x_values * slope + intercept\n",
    "line_eq = \"y = \" + str(round(slope,2)) + \"x + \" + str(round(intercept,2))\n",
    "plt.scatter(x_values,y_values)\n",
    "plt.plot(x_values,regress_values,\"r-\")\n",
    "plt.annotate(line_eq,(-80,60),fontsize=15,color=\"red\")\n",
    "plt.title('Cloudiness vs Lat: South')\n",
    "plt.xlabel('Latitude')\n",
    "plt.ylabel('Cloud Coverage (%)')\n",
    "plt.savefig('output/Cloudiness-vs-Lat-South.png')\n",
    "print('No correlation between cloudiness and latitude in the southern hemisphere, that we can see. While the regression line has a positive slope, the distribution of data points does not visually mirror the trendline.')"
   ]
  },
  {
   "cell_type": "markdown",
   "metadata": {},
   "source": [
    "####  Northern Hemisphere - Wind Speed (mph) vs. Latitude Linear Regression"
   ]
  },
  {
   "cell_type": "code",
   "execution_count": null,
   "metadata": {},
   "outputs": [],
   "source": [
    "x_values = north['Latitude']\n",
    "y_values = north['Wind Speed (MPH)']\n",
    "(slope, intercept, rvalue, pvalue, stderr) = linregress(x_values, y_values)\n",
    "regress_values = x_values * slope + intercept\n",
    "line_eq = \"y = \" + str(round(slope,2)) + \"x + \" + str(round(intercept,2))\n",
    "plt.scatter(x_values,y_values)\n",
    "plt.plot(x_values,regress_values,\"r-\")\n",
    "plt.annotate(line_eq,(0,35),fontsize=15,color=\"red\")\n",
    "plt.title('Wind Speed vs Lat: North')\n",
    "plt.xlabel('Latitude')\n",
    "plt.ylabel('Wind Speed (MPH)')\n",
    "plt.savefig('output/Wind-Speed-vs-Lat-North.png')\n",
    "print('No correlation between wind speed and latitude.')"
   ]
  },
  {
   "cell_type": "markdown",
   "metadata": {},
   "source": [
    "####  Southern Hemisphere - Wind Speed (mph) vs. Latitude Linear Regression"
   ]
  },
  {
   "cell_type": "code",
   "execution_count": null,
   "metadata": {},
   "outputs": [],
   "source": [
    "x_values = south['Latitude']\n",
    "y_values = south['Wind Speed (MPH)']\n",
    "(slope, intercept, rvalue, pvalue, stderr) = linregress(x_values, y_values)\n",
    "regress_values = x_values * slope + intercept\n",
    "line_eq = \"y = \" + str(round(slope,2)) + \"x + \" + str(round(intercept,2))\n",
    "plt.scatter(x_values,y_values)\n",
    "plt.plot(x_values,regress_values,\"r-\")\n",
    "plt.annotate(line_eq,(-87,28),fontsize=15,color=\"red\")\n",
    "plt.title('Wind Speed vs Lat: South')\n",
    "plt.xlabel('Latitude')\n",
    "plt.ylabel('Wind Speed (MPH)')\n",
    "plt.savefig('output/Wind-Speed-vs-Lat-South.png')\n",
    "print('No correlation between wind speed and latitude.')"
   ]
  },
  {
   "cell_type": "code",
   "execution_count": null,
   "metadata": {},
   "outputs": [],
   "source": []
  }
 ],
 "metadata": {
  "anaconda-cloud": {},
  "kernel_info": {
   "name": "python3"
  },
  "kernelspec": {
   "display_name": "Python 3",
   "language": "python",
   "name": "python3"
  },
  "language_info": {
   "codemirror_mode": {
    "name": "ipython",
    "version": 3
   },
   "file_extension": ".py",
   "mimetype": "text/x-python",
   "name": "python",
   "nbconvert_exporter": "python",
   "pygments_lexer": "ipython3",
   "version": "3.6.10"
  },
  "latex_envs": {
   "LaTeX_envs_menu_present": true,
   "autoclose": false,
   "autocomplete": true,
   "bibliofile": "biblio.bib",
   "cite_by": "apalike",
   "current_citInitial": 1,
   "eqLabelWithNumbers": true,
   "eqNumInitial": 1,
   "hotkeys": {
    "equation": "Ctrl-E",
    "itemize": "Ctrl-I"
   },
   "labels_anchors": false,
   "latex_user_defs": false,
   "report_style_numbering": false,
   "user_envs_cfg": false
  },
  "nteract": {
   "version": "0.12.3"
  }
 },
 "nbformat": 4,
 "nbformat_minor": 2
}
